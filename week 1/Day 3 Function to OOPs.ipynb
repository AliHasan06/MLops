{
 "cells": [
  {
   "cell_type": "markdown",
   "id": "2a3c7cea",
   "metadata": {},
   "source": [
    "# Functions in Python\n",
    "- Define\n",
    "- Call\n",
    "- Default Arguments\n",
    "- Variable Length Arguments\n",
    "- Lambda Functions\n",
    "- map function\n",
    "- filter function"
   ]
  },
  {
   "cell_type": "code",
   "execution_count": 2,
   "id": "77477a1f",
   "metadata": {},
   "outputs": [
    {
     "name": "stdout",
     "output_type": "stream",
     "text": [
      "212 is even\n"
     ]
    }
   ],
   "source": [
    "## Structure of a function\n",
    "\n",
    "num = 212\n",
    "\n",
    "\n",
    "if num%2==0:\n",
    "    print(num,\"is even\")\n",
    "else:\n",
    "    print(num,\"is odd\")"
   ]
  },
  {
   "cell_type": "code",
   "execution_count": 3,
   "id": "dfcd2b6f",
   "metadata": {},
   "outputs": [],
   "source": [
    "## def name_of_function(parameter/argument):\n",
    "##       \"\"\" Doc String \"\"\"\n",
    "##         body of the function\n",
    "##         return Expression"
   ]
  },
  {
   "cell_type": "code",
   "execution_count": null,
   "id": "bdddddcf",
   "metadata": {},
   "outputs": [],
   "source": []
  }
 ],
 "metadata": {
  "kernelspec": {
   "display_name": "Python 3",
   "language": "python",
   "name": "python3"
  },
  "language_info": {
   "codemirror_mode": {
    "name": "ipython",
    "version": 3
   },
   "file_extension": ".py",
   "mimetype": "text/x-python",
   "name": "python",
   "nbconvert_exporter": "python",
   "pygments_lexer": "ipython3",
   "version": "3.12.6"
  }
 },
 "nbformat": 4,
 "nbformat_minor": 5
}
