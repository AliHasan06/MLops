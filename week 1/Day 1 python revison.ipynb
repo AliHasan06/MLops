{
 "cells": [
  {
   "cell_type": "code",
   "execution_count": 1,
   "id": "ba8a005b",
   "metadata": {},
   "outputs": [
    {
     "name": "stdout",
     "output_type": "stream",
     "text": [
      "hello world\n"
     ]
    }
   ],
   "source": [
    "print(\"hello world\")"
   ]
  },
  {
   "cell_type": "code",
   "execution_count": null,
   "id": "a4f13f9c",
   "metadata": {},
   "outputs": [
    {
     "name": "stdout",
     "output_type": "stream",
     "text": [
      "you are an adult\n"
     ]
    }
   ],
   "source": [
    "age =100 \n",
    "if age > 18:\n",
    "    print(\"you are an adult\")\n",
    "else:\n",
    "    print('you are a minor')"
   ]
  },
  {
   "cell_type": "code",
   "execution_count": null,
   "id": "aa790a9d",
   "metadata": {},
   "outputs": [
    {
     "name": "stdout",
     "output_type": "stream",
     "text": [
      "7.0\n"
     ]
    }
   ],
   "source": [
    "print(1+1+3%2*10/2)"
   ]
  },
  {
   "cell_type": "code",
   "execution_count": 2,
   "id": "36a7c025",
   "metadata": {},
   "outputs": [],
   "source": [
    "name = \"John\"\n",
    "age = 1\n",
    "sleeped = False\n",
    "height = 5.11"
   ]
  },
  {
   "cell_type": "code",
   "execution_count": 3,
   "id": "874608fc",
   "metadata": {},
   "outputs": [
    {
     "name": "stdout",
     "output_type": "stream",
     "text": [
      "<class 'int'>\n",
      "<class 'str'>\n",
      "<class 'bool'>\n",
      "<class 'float'>\n"
     ]
    }
   ],
   "source": [
    "print(type(age))\n",
    "print(type(name))\n",
    "print(type(sleeped))\n",
    "print(type(height))"
   ]
  },
  {
   "cell_type": "code",
   "execution_count": 5,
   "id": "9eb1ba5f",
   "metadata": {},
   "outputs": [
    {
     "name": "stdout",
     "output_type": "stream",
     "text": [
      "<class 'str'>\n",
      "<class 'int'>\n"
     ]
    }
   ],
   "source": [
    "age = \"19\"\n",
    "print(type(age))\n",
    "age = int(age)\n",
    "print(type(age))"
   ]
  },
  {
   "cell_type": "code",
   "execution_count": 6,
   "id": "9f9c1d3f",
   "metadata": {},
   "outputs": [
    {
     "name": "stdout",
     "output_type": "stream",
     "text": [
      "sum of 12 and 21 is 33\n",
      "difference of 12 and 21 is -9\n",
      "product of 12 and 21 is 252\n",
      "quotient of 12 and 21 is 0.5714285714285714\n"
     ]
    }
   ],
   "source": [
    "# basic calculator\n",
    "num1 = int(input(\"enter the first number: \"))\n",
    "num2 = int(input(\"enter the second number: \"))\n",
    "sum = num1 + num2\n",
    "div = num1 / num2\n",
    "mul = num1 * num2\n",
    "sub = num1 - num2\n",
    "print(f\"sum of {num1} and {num2} is {sum}\")\n",
    "print(f\"difference of {num1} and {num2} is {sub}\")\n",
    "print(f\"product of {num1} and {num2} is {mul}\")\n",
    "print(f\"quotient of {num1} and {num2} is {div}\")"
   ]
  },
  {
   "cell_type": "markdown",
   "id": "b8e10b0d",
   "metadata": {},
   "source": [
    "# Basic data types\n",
    "## String\n",
    "## Boolean\n",
    "## Integer\n",
    "## Floats"
   ]
  },
  {
   "cell_type": "code",
   "execution_count": 7,
   "id": "153f33e1",
   "metadata": {},
   "outputs": [],
   "source": [
    "string = \"hello world\"\n",
    "boolean = True\n",
    "integer = 10\n",
    "float = 10.5"
   ]
  },
  {
   "cell_type": "code",
   "execution_count": 8,
   "id": "3d6a7814",
   "metadata": {},
   "outputs": [
    {
     "name": "stdout",
     "output_type": "stream",
     "text": [
      "HELLO WORLD\n"
     ]
    }
   ],
   "source": [
    "print(string.upper())"
   ]
  },
  {
   "cell_type": "markdown",
   "id": "f83300aa",
   "metadata": {},
   "source": [
    "# Python: `as_integer_ratio()`\n",
    "\n",
    "In Python, the method **`x.as_integer_ratio()`** is available for `float`.  \n",
    "It returns a tuple of two integers `(numerator, denominator)` such that:\n",
    "\n",
    "\\[\n",
    "x = \\frac{numerator}{denominator}\n",
    "\\]\n",
    "\n",
    "---\n",
    "\n",
    "## Example 1\n",
    "```python\n",
    "x = 0.75\n",
    "print(x.as_integer_ratio())\n"
   ]
  },
  {
   "cell_type": "code",
   "execution_count": 9,
   "id": "425a0ece",
   "metadata": {},
   "outputs": [
    {
     "name": "stdout",
     "output_type": "stream",
     "text": [
      "(3, 4)\n"
     ]
    }
   ],
   "source": [
    "x = 0.75\n",
    "print(x.as_integer_ratio())\n"
   ]
  }
 ],
 "metadata": {
  "kernelspec": {
   "display_name": "Python 3",
   "language": "python",
   "name": "python3"
  },
  "language_info": {
   "codemirror_mode": {
    "name": "ipython",
    "version": 3
   },
   "file_extension": ".py",
   "mimetype": "text/x-python",
   "name": "python",
   "nbconvert_exporter": "python",
   "pygments_lexer": "ipython3",
   "version": "3.12.6"
  }
 },
 "nbformat": 4,
 "nbformat_minor": 5
}
