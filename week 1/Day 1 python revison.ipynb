{
 "cells": [
  {
   "cell_type": "code",
   "execution_count": 1,
   "id": "ba8a005b",
   "metadata": {},
   "outputs": [
    {
     "name": "stdout",
     "output_type": "stream",
     "text": [
      "hello world\n"
     ]
    }
   ],
   "source": [
    "print(\"hello world\")"
   ]
  },
  {
   "cell_type": "code",
   "execution_count": null,
   "id": "a4f13f9c",
   "metadata": {},
   "outputs": [
    {
     "name": "stdout",
     "output_type": "stream",
     "text": [
      "you are an adult\n"
     ]
    }
   ],
   "source": [
    "age =100 \n",
    "if age > 18:\n",
    "    print(\"you are an adult\")\n",
    "else:\n",
    "    print('you are a minor')"
   ]
  },
  {
   "cell_type": "code",
   "execution_count": null,
   "id": "aa790a9d",
   "metadata": {},
   "outputs": [
    {
     "name": "stdout",
     "output_type": "stream",
     "text": [
      "7.0\n"
     ]
    }
   ],
   "source": [
    "print(1+1+3%2*10/2)"
   ]
  },
  {
   "cell_type": "code",
   "execution_count": 2,
   "id": "36a7c025",
   "metadata": {},
   "outputs": [],
   "source": [
    "name = \"John\"\n",
    "age = 1\n",
    "sleeped = False\n",
    "height = 5.11"
   ]
  },
  {
   "cell_type": "code",
   "execution_count": 3,
   "id": "874608fc",
   "metadata": {},
   "outputs": [
    {
     "name": "stdout",
     "output_type": "stream",
     "text": [
      "<class 'int'>\n",
      "<class 'str'>\n",
      "<class 'bool'>\n",
      "<class 'float'>\n"
     ]
    }
   ],
   "source": [
    "print(type(age))\n",
    "print(type(name))\n",
    "print(type(sleeped))\n",
    "print(type(height))"
   ]
  },
  {
   "cell_type": "code",
   "execution_count": null,
   "id": "9eb1ba5f",
   "metadata": {},
   "outputs": [],
   "source": []
  }
 ],
 "metadata": {
  "kernelspec": {
   "display_name": "Python 3",
   "language": "python",
   "name": "python3"
  },
  "language_info": {
   "codemirror_mode": {
    "name": "ipython",
    "version": 3
   },
   "file_extension": ".py",
   "mimetype": "text/x-python",
   "name": "python",
   "nbconvert_exporter": "python",
   "pygments_lexer": "ipython3",
   "version": "3.12.6"
  }
 },
 "nbformat": 4,
 "nbformat_minor": 5
}
