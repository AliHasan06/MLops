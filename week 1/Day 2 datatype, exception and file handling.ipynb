{
 "cells": [
  {
   "cell_type": "markdown",
   "id": "16c21346",
   "metadata": {},
   "source": [
    "# data types \n",
    "- list \n",
    "- set\n",
    "- dict\n",
    "- tuple"
   ]
  },
  {
   "cell_type": "code",
   "execution_count": 1,
   "id": "aae00093",
   "metadata": {},
   "outputs": [
    {
     "name": "stdout",
     "output_type": "stream",
     "text": [
      "[1, 2, 3, 4, 5, 'Haseeb', 'Subhan', 'Rubab', 5.7, 8.9, True, False]\n"
     ]
    }
   ],
   "source": [
    "lst = [1,2,3,4,5,\"Haseeb\", \"Subhan\", \"Rubab\", 5.7,8.9, True,False ]\n",
    "print(lst)"
   ]
  },
  {
   "cell_type": "code",
   "execution_count": null,
   "id": "4607ecf1",
   "metadata": {},
   "outputs": [
    {
     "name": "stdout",
     "output_type": "stream",
     "text": [
      "2\n",
      "[3, 4, 5, 'Haseeb', 'Subhan', 'Rubab', 5.7, 8.9, True, False]\n",
      "[]\n",
      "[3, 4]\n",
      "[1, 3, 5, 'Subhan', 5.7, True]\n"
     ]
    }
   ],
   "source": [
    "print(lst[1])\n",
    "print(lst[2:])\n",
    "print(lst[2:1])\n",
    "print(lst[2:4])\n",
    "print(lst[::2])\n",
    "# start : stop : step"
   ]
  },
  {
   "cell_type": "code",
   "execution_count": null,
   "id": "600a8c4a",
   "metadata": {},
   "outputs": [],
   "source": []
  }
 ],
 "metadata": {
  "kernelspec": {
   "display_name": "Python 3",
   "language": "python",
   "name": "python3"
  },
  "language_info": {
   "codemirror_mode": {
    "name": "ipython",
    "version": 3
   },
   "file_extension": ".py",
   "mimetype": "text/x-python",
   "name": "python",
   "nbconvert_exporter": "python",
   "pygments_lexer": "ipython3",
   "version": "3.12.6"
  }
 },
 "nbformat": 4,
 "nbformat_minor": 5
}
