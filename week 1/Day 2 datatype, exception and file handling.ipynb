{
 "cells": [
  {
   "cell_type": "markdown",
   "id": "16c21346",
   "metadata": {},
   "source": [
    "# data types \n",
    "- list \n",
    "- set\n",
    "- dict\n",
    "- tuple"
   ]
  },
  {
   "cell_type": "code",
   "execution_count": null,
   "id": "aae00093",
   "metadata": {},
   "outputs": [],
   "source": []
  }
 ],
 "metadata": {
  "language_info": {
   "name": "python"
  }
 },
 "nbformat": 4,
 "nbformat_minor": 5
}
